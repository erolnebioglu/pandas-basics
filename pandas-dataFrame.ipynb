{
 "cells": [
  {
   "cell_type": "code",
   "execution_count": 1,
   "id": "b5b954a9",
   "metadata": {},
   "outputs": [],
   "source": [
    "import numpy as np\n",
    "import pandas as pd"
   ]
  },
  {
   "cell_type": "code",
   "execution_count": 3,
   "id": "6ff9f5b9",
   "metadata": {},
   "outputs": [],
   "source": [
    "data = np.random.randn(4,3)"
   ]
  },
  {
   "cell_type": "code",
   "execution_count": 4,
   "id": "23fa7800",
   "metadata": {},
   "outputs": [
    {
     "data": {
      "text/plain": [
       "array([[ 1.02994286,  1.87351153, -0.16752097],\n",
       "       [ 1.03348486, -1.89051625, -0.55793447],\n",
       "       [-0.3177941 , -0.94135199, -0.74631902],\n",
       "       [ 1.89219453, -1.02332847,  0.16789618]])"
      ]
     },
     "execution_count": 4,
     "metadata": {},
     "output_type": "execute_result"
    }
   ],
   "source": [
    "data"
   ]
  },
  {
   "cell_type": "code",
   "execution_count": 5,
   "id": "4fd06247",
   "metadata": {},
   "outputs": [],
   "source": [
    "dataFrame = pd.DataFrame(data)"
   ]
  },
  {
   "cell_type": "code",
   "execution_count": 6,
   "id": "09bb40a6",
   "metadata": {},
   "outputs": [
    {
     "data": {
      "text/html": [
       "<div>\n",
       "<style scoped>\n",
       "    .dataframe tbody tr th:only-of-type {\n",
       "        vertical-align: middle;\n",
       "    }\n",
       "\n",
       "    .dataframe tbody tr th {\n",
       "        vertical-align: top;\n",
       "    }\n",
       "\n",
       "    .dataframe thead th {\n",
       "        text-align: right;\n",
       "    }\n",
       "</style>\n",
       "<table border=\"1\" class=\"dataframe\">\n",
       "  <thead>\n",
       "    <tr style=\"text-align: right;\">\n",
       "      <th></th>\n",
       "      <th>0</th>\n",
       "      <th>1</th>\n",
       "      <th>2</th>\n",
       "    </tr>\n",
       "  </thead>\n",
       "  <tbody>\n",
       "    <tr>\n",
       "      <th>0</th>\n",
       "      <td>1.029943</td>\n",
       "      <td>1.873512</td>\n",
       "      <td>-0.167521</td>\n",
       "    </tr>\n",
       "    <tr>\n",
       "      <th>1</th>\n",
       "      <td>1.033485</td>\n",
       "      <td>-1.890516</td>\n",
       "      <td>-0.557934</td>\n",
       "    </tr>\n",
       "    <tr>\n",
       "      <th>2</th>\n",
       "      <td>-0.317794</td>\n",
       "      <td>-0.941352</td>\n",
       "      <td>-0.746319</td>\n",
       "    </tr>\n",
       "    <tr>\n",
       "      <th>3</th>\n",
       "      <td>1.892195</td>\n",
       "      <td>-1.023328</td>\n",
       "      <td>0.167896</td>\n",
       "    </tr>\n",
       "  </tbody>\n",
       "</table>\n",
       "</div>"
      ],
      "text/plain": [
       "          0         1         2\n",
       "0  1.029943  1.873512 -0.167521\n",
       "1  1.033485 -1.890516 -0.557934\n",
       "2 -0.317794 -0.941352 -0.746319\n",
       "3  1.892195 -1.023328  0.167896"
      ]
     },
     "execution_count": 6,
     "metadata": {},
     "output_type": "execute_result"
    }
   ],
   "source": [
    "dataFrame"
   ]
  },
  {
   "cell_type": "code",
   "execution_count": 7,
   "id": "8de81e5f",
   "metadata": {},
   "outputs": [
    {
     "data": {
      "text/plain": [
       "0    1.029943\n",
       "1    1.033485\n",
       "2   -0.317794\n",
       "3    1.892195\n",
       "Name: 0, dtype: float64"
      ]
     },
     "execution_count": 7,
     "metadata": {},
     "output_type": "execute_result"
    }
   ],
   "source": [
    "dataFrame[0]"
   ]
  },
  {
   "cell_type": "code",
   "execution_count": 11,
   "id": "10daae74",
   "metadata": {},
   "outputs": [],
   "source": [
    "newDataFrame = pd.DataFrame(data,index=[\"erol\",\"serhat\",\"talha\",\"bilo\"],columns=[\"manita\",\"para\",\"cekiciliks\"])"
   ]
  },
  {
   "cell_type": "code",
   "execution_count": 12,
   "id": "993e807f",
   "metadata": {},
   "outputs": [
    {
     "data": {
      "text/html": [
       "<div>\n",
       "<style scoped>\n",
       "    .dataframe tbody tr th:only-of-type {\n",
       "        vertical-align: middle;\n",
       "    }\n",
       "\n",
       "    .dataframe tbody tr th {\n",
       "        vertical-align: top;\n",
       "    }\n",
       "\n",
       "    .dataframe thead th {\n",
       "        text-align: right;\n",
       "    }\n",
       "</style>\n",
       "<table border=\"1\" class=\"dataframe\">\n",
       "  <thead>\n",
       "    <tr style=\"text-align: right;\">\n",
       "      <th></th>\n",
       "      <th>manita</th>\n",
       "      <th>para</th>\n",
       "      <th>cekiciliks</th>\n",
       "    </tr>\n",
       "  </thead>\n",
       "  <tbody>\n",
       "    <tr>\n",
       "      <th>erol</th>\n",
       "      <td>1.029943</td>\n",
       "      <td>1.873512</td>\n",
       "      <td>-0.167521</td>\n",
       "    </tr>\n",
       "    <tr>\n",
       "      <th>serhat</th>\n",
       "      <td>1.033485</td>\n",
       "      <td>-1.890516</td>\n",
       "      <td>-0.557934</td>\n",
       "    </tr>\n",
       "    <tr>\n",
       "      <th>talha</th>\n",
       "      <td>-0.317794</td>\n",
       "      <td>-0.941352</td>\n",
       "      <td>-0.746319</td>\n",
       "    </tr>\n",
       "    <tr>\n",
       "      <th>bilo</th>\n",
       "      <td>1.892195</td>\n",
       "      <td>-1.023328</td>\n",
       "      <td>0.167896</td>\n",
       "    </tr>\n",
       "  </tbody>\n",
       "</table>\n",
       "</div>"
      ],
      "text/plain": [
       "          manita      para  cekiciliks\n",
       "erol    1.029943  1.873512   -0.167521\n",
       "serhat  1.033485 -1.890516   -0.557934\n",
       "talha  -0.317794 -0.941352   -0.746319\n",
       "bilo    1.892195 -1.023328    0.167896"
      ]
     },
     "execution_count": 12,
     "metadata": {},
     "output_type": "execute_result"
    }
   ],
   "source": [
    "newDataFrame"
   ]
  },
  {
   "cell_type": "code",
   "execution_count": 13,
   "id": "4a7a9d30",
   "metadata": {},
   "outputs": [
    {
     "data": {
      "text/plain": [
       "erol      1.029943\n",
       "serhat    1.033485\n",
       "talha    -0.317794\n",
       "bilo      1.892195\n",
       "Name: manita, dtype: float64"
      ]
     },
     "execution_count": 13,
     "metadata": {},
     "output_type": "execute_result"
    }
   ],
   "source": [
    "newDataFrame[\"manita\"]"
   ]
  },
  {
   "cell_type": "code",
   "execution_count": 15,
   "id": "8e9c7282",
   "metadata": {},
   "outputs": [
    {
     "data": {
      "text/plain": [
       "manita        1.029943\n",
       "para          1.873512\n",
       "cekiciliks   -0.167521\n",
       "Name: erol, dtype: float64"
      ]
     },
     "execution_count": 15,
     "metadata": {},
     "output_type": "execute_result"
    }
   ],
   "source": [
    "newDataFrame.loc[\"erol\"]"
   ]
  },
  {
   "cell_type": "code",
   "execution_count": 17,
   "id": "18c5e69d",
   "metadata": {},
   "outputs": [
    {
     "data": {
      "text/plain": [
       "manita        1.033485\n",
       "para         -1.890516\n",
       "cekiciliks   -0.557934\n",
       "Name: serhat, dtype: float64"
      ]
     },
     "execution_count": 17,
     "metadata": {},
     "output_type": "execute_result"
    }
   ],
   "source": [
    "newDataFrame.iloc[1]"
   ]
  },
  {
   "cell_type": "code",
   "execution_count": 18,
   "id": "a916a617",
   "metadata": {},
   "outputs": [
    {
     "data": {
      "text/html": [
       "<div>\n",
       "<style scoped>\n",
       "    .dataframe tbody tr th:only-of-type {\n",
       "        vertical-align: middle;\n",
       "    }\n",
       "\n",
       "    .dataframe tbody tr th {\n",
       "        vertical-align: top;\n",
       "    }\n",
       "\n",
       "    .dataframe thead th {\n",
       "        text-align: right;\n",
       "    }\n",
       "</style>\n",
       "<table border=\"1\" class=\"dataframe\">\n",
       "  <thead>\n",
       "    <tr style=\"text-align: right;\">\n",
       "      <th></th>\n",
       "      <th>manita</th>\n",
       "      <th>para</th>\n",
       "      <th>cekiciliks</th>\n",
       "    </tr>\n",
       "  </thead>\n",
       "  <tbody>\n",
       "    <tr>\n",
       "      <th>erol</th>\n",
       "      <td>1.029943</td>\n",
       "      <td>1.873512</td>\n",
       "      <td>-0.167521</td>\n",
       "    </tr>\n",
       "    <tr>\n",
       "      <th>serhat</th>\n",
       "      <td>1.033485</td>\n",
       "      <td>-1.890516</td>\n",
       "      <td>-0.557934</td>\n",
       "    </tr>\n",
       "    <tr>\n",
       "      <th>talha</th>\n",
       "      <td>-0.317794</td>\n",
       "      <td>-0.941352</td>\n",
       "      <td>-0.746319</td>\n",
       "    </tr>\n",
       "    <tr>\n",
       "      <th>bilo</th>\n",
       "      <td>1.892195</td>\n",
       "      <td>-1.023328</td>\n",
       "      <td>0.167896</td>\n",
       "    </tr>\n",
       "  </tbody>\n",
       "</table>\n",
       "</div>"
      ],
      "text/plain": [
       "          manita      para  cekiciliks\n",
       "erol    1.029943  1.873512   -0.167521\n",
       "serhat  1.033485 -1.890516   -0.557934\n",
       "talha  -0.317794 -0.941352   -0.746319\n",
       "bilo    1.892195 -1.023328    0.167896"
      ]
     },
     "execution_count": 18,
     "metadata": {},
     "output_type": "execute_result"
    }
   ],
   "source": [
    "newDataFrame"
   ]
  },
  {
   "cell_type": "code",
   "execution_count": 22,
   "id": "9ba441c9",
   "metadata": {},
   "outputs": [],
   "source": [
    "newDataFrame[\"soforluk\"] = np.random.randint(0,2,4)"
   ]
  },
  {
   "cell_type": "code",
   "execution_count": 23,
   "id": "f5cb53b6",
   "metadata": {},
   "outputs": [
    {
     "data": {
      "text/html": [
       "<div>\n",
       "<style scoped>\n",
       "    .dataframe tbody tr th:only-of-type {\n",
       "        vertical-align: middle;\n",
       "    }\n",
       "\n",
       "    .dataframe tbody tr th {\n",
       "        vertical-align: top;\n",
       "    }\n",
       "\n",
       "    .dataframe thead th {\n",
       "        text-align: right;\n",
       "    }\n",
       "</style>\n",
       "<table border=\"1\" class=\"dataframe\">\n",
       "  <thead>\n",
       "    <tr style=\"text-align: right;\">\n",
       "      <th></th>\n",
       "      <th>manita</th>\n",
       "      <th>para</th>\n",
       "      <th>cekiciliks</th>\n",
       "      <th>soforluk</th>\n",
       "    </tr>\n",
       "  </thead>\n",
       "  <tbody>\n",
       "    <tr>\n",
       "      <th>erol</th>\n",
       "      <td>1.029943</td>\n",
       "      <td>1.873512</td>\n",
       "      <td>-0.167521</td>\n",
       "      <td>0</td>\n",
       "    </tr>\n",
       "    <tr>\n",
       "      <th>serhat</th>\n",
       "      <td>1.033485</td>\n",
       "      <td>-1.890516</td>\n",
       "      <td>-0.557934</td>\n",
       "      <td>0</td>\n",
       "    </tr>\n",
       "    <tr>\n",
       "      <th>talha</th>\n",
       "      <td>-0.317794</td>\n",
       "      <td>-0.941352</td>\n",
       "      <td>-0.746319</td>\n",
       "      <td>1</td>\n",
       "    </tr>\n",
       "    <tr>\n",
       "      <th>bilo</th>\n",
       "      <td>1.892195</td>\n",
       "      <td>-1.023328</td>\n",
       "      <td>0.167896</td>\n",
       "      <td>1</td>\n",
       "    </tr>\n",
       "  </tbody>\n",
       "</table>\n",
       "</div>"
      ],
      "text/plain": [
       "          manita      para  cekiciliks  soforluk\n",
       "erol    1.029943  1.873512   -0.167521         0\n",
       "serhat  1.033485 -1.890516   -0.557934         0\n",
       "talha  -0.317794 -0.941352   -0.746319         1\n",
       "bilo    1.892195 -1.023328    0.167896         1"
      ]
     },
     "execution_count": 23,
     "metadata": {},
     "output_type": "execute_result"
    }
   ],
   "source": [
    "newDataFrame"
   ]
  },
  {
   "cell_type": "code",
   "execution_count": 25,
   "id": "e85e7d00",
   "metadata": {},
   "outputs": [
    {
     "data": {
      "text/html": [
       "<div>\n",
       "<style scoped>\n",
       "    .dataframe tbody tr th:only-of-type {\n",
       "        vertical-align: middle;\n",
       "    }\n",
       "\n",
       "    .dataframe tbody tr th {\n",
       "        vertical-align: top;\n",
       "    }\n",
       "\n",
       "    .dataframe thead th {\n",
       "        text-align: right;\n",
       "    }\n",
       "</style>\n",
       "<table border=\"1\" class=\"dataframe\">\n",
       "  <thead>\n",
       "    <tr style=\"text-align: right;\">\n",
       "      <th></th>\n",
       "      <th>manita</th>\n",
       "      <th>para</th>\n",
       "      <th>cekiciliks</th>\n",
       "    </tr>\n",
       "  </thead>\n",
       "  <tbody>\n",
       "    <tr>\n",
       "      <th>erol</th>\n",
       "      <td>1.029943</td>\n",
       "      <td>1.873512</td>\n",
       "      <td>-0.167521</td>\n",
       "    </tr>\n",
       "    <tr>\n",
       "      <th>serhat</th>\n",
       "      <td>1.033485</td>\n",
       "      <td>-1.890516</td>\n",
       "      <td>-0.557934</td>\n",
       "    </tr>\n",
       "    <tr>\n",
       "      <th>talha</th>\n",
       "      <td>-0.317794</td>\n",
       "      <td>-0.941352</td>\n",
       "      <td>-0.746319</td>\n",
       "    </tr>\n",
       "    <tr>\n",
       "      <th>bilo</th>\n",
       "      <td>1.892195</td>\n",
       "      <td>-1.023328</td>\n",
       "      <td>0.167896</td>\n",
       "    </tr>\n",
       "  </tbody>\n",
       "</table>\n",
       "</div>"
      ],
      "text/plain": [
       "          manita      para  cekiciliks\n",
       "erol    1.029943  1.873512   -0.167521\n",
       "serhat  1.033485 -1.890516   -0.557934\n",
       "talha  -0.317794 -0.941352   -0.746319\n",
       "bilo    1.892195 -1.023328    0.167896"
      ]
     },
     "execution_count": 25,
     "metadata": {},
     "output_type": "execute_result"
    }
   ],
   "source": [
    "newDataFrame.drop(\"soforluk\",axis=1)"
   ]
  },
  {
   "cell_type": "code",
   "execution_count": 28,
   "id": "fbcbf3dd",
   "metadata": {},
   "outputs": [
    {
     "data": {
      "text/html": [
       "<div>\n",
       "<style scoped>\n",
       "    .dataframe tbody tr th:only-of-type {\n",
       "        vertical-align: middle;\n",
       "    }\n",
       "\n",
       "    .dataframe tbody tr th {\n",
       "        vertical-align: top;\n",
       "    }\n",
       "\n",
       "    .dataframe thead th {\n",
       "        text-align: right;\n",
       "    }\n",
       "</style>\n",
       "<table border=\"1\" class=\"dataframe\">\n",
       "  <thead>\n",
       "    <tr style=\"text-align: right;\">\n",
       "      <th></th>\n",
       "      <th>manita</th>\n",
       "      <th>para</th>\n",
       "      <th>cekiciliks</th>\n",
       "      <th>soforluk</th>\n",
       "    </tr>\n",
       "  </thead>\n",
       "  <tbody>\n",
       "    <tr>\n",
       "      <th>erol</th>\n",
       "      <td>1.029943</td>\n",
       "      <td>1.873512</td>\n",
       "      <td>-0.167521</td>\n",
       "      <td>0</td>\n",
       "    </tr>\n",
       "    <tr>\n",
       "      <th>serhat</th>\n",
       "      <td>1.033485</td>\n",
       "      <td>-1.890516</td>\n",
       "      <td>-0.557934</td>\n",
       "      <td>0</td>\n",
       "    </tr>\n",
       "    <tr>\n",
       "      <th>talha</th>\n",
       "      <td>-0.317794</td>\n",
       "      <td>-0.941352</td>\n",
       "      <td>-0.746319</td>\n",
       "      <td>1</td>\n",
       "    </tr>\n",
       "  </tbody>\n",
       "</table>\n",
       "</div>"
      ],
      "text/plain": [
       "          manita      para  cekiciliks  soforluk\n",
       "erol    1.029943  1.873512   -0.167521         0\n",
       "serhat  1.033485 -1.890516   -0.557934         0\n",
       "talha  -0.317794 -0.941352   -0.746319         1"
      ]
     },
     "execution_count": 28,
     "metadata": {},
     "output_type": "execute_result"
    }
   ],
   "source": [
    "newDataFrame.drop(\"bilo\",axis=0)"
   ]
  },
  {
   "cell_type": "code",
   "execution_count": 29,
   "id": "bef72b14",
   "metadata": {},
   "outputs": [
    {
     "data": {
      "text/html": [
       "<div>\n",
       "<style scoped>\n",
       "    .dataframe tbody tr th:only-of-type {\n",
       "        vertical-align: middle;\n",
       "    }\n",
       "\n",
       "    .dataframe tbody tr th {\n",
       "        vertical-align: top;\n",
       "    }\n",
       "\n",
       "    .dataframe thead th {\n",
       "        text-align: right;\n",
       "    }\n",
       "</style>\n",
       "<table border=\"1\" class=\"dataframe\">\n",
       "  <thead>\n",
       "    <tr style=\"text-align: right;\">\n",
       "      <th></th>\n",
       "      <th>manita</th>\n",
       "      <th>para</th>\n",
       "      <th>cekiciliks</th>\n",
       "      <th>soforluk</th>\n",
       "    </tr>\n",
       "  </thead>\n",
       "  <tbody>\n",
       "    <tr>\n",
       "      <th>erol</th>\n",
       "      <td>1.029943</td>\n",
       "      <td>1.873512</td>\n",
       "      <td>-0.167521</td>\n",
       "      <td>0</td>\n",
       "    </tr>\n",
       "    <tr>\n",
       "      <th>serhat</th>\n",
       "      <td>1.033485</td>\n",
       "      <td>-1.890516</td>\n",
       "      <td>-0.557934</td>\n",
       "      <td>0</td>\n",
       "    </tr>\n",
       "    <tr>\n",
       "      <th>talha</th>\n",
       "      <td>-0.317794</td>\n",
       "      <td>-0.941352</td>\n",
       "      <td>-0.746319</td>\n",
       "      <td>1</td>\n",
       "    </tr>\n",
       "    <tr>\n",
       "      <th>bilo</th>\n",
       "      <td>1.892195</td>\n",
       "      <td>-1.023328</td>\n",
       "      <td>0.167896</td>\n",
       "      <td>1</td>\n",
       "    </tr>\n",
       "  </tbody>\n",
       "</table>\n",
       "</div>"
      ],
      "text/plain": [
       "          manita      para  cekiciliks  soforluk\n",
       "erol    1.029943  1.873512   -0.167521         0\n",
       "serhat  1.033485 -1.890516   -0.557934         0\n",
       "talha  -0.317794 -0.941352   -0.746319         1\n",
       "bilo    1.892195 -1.023328    0.167896         1"
      ]
     },
     "execution_count": 29,
     "metadata": {},
     "output_type": "execute_result"
    }
   ],
   "source": [
    "newDataFrame"
   ]
  },
  {
   "cell_type": "code",
   "execution_count": 30,
   "id": "520a924d",
   "metadata": {},
   "outputs": [],
   "source": [
    "newDataFrame.drop(\"bilo\",axis=0,inplace=True)"
   ]
  },
  {
   "cell_type": "code",
   "execution_count": 31,
   "id": "9f0d12bd",
   "metadata": {},
   "outputs": [
    {
     "data": {
      "text/html": [
       "<div>\n",
       "<style scoped>\n",
       "    .dataframe tbody tr th:only-of-type {\n",
       "        vertical-align: middle;\n",
       "    }\n",
       "\n",
       "    .dataframe tbody tr th {\n",
       "        vertical-align: top;\n",
       "    }\n",
       "\n",
       "    .dataframe thead th {\n",
       "        text-align: right;\n",
       "    }\n",
       "</style>\n",
       "<table border=\"1\" class=\"dataframe\">\n",
       "  <thead>\n",
       "    <tr style=\"text-align: right;\">\n",
       "      <th></th>\n",
       "      <th>manita</th>\n",
       "      <th>para</th>\n",
       "      <th>cekiciliks</th>\n",
       "      <th>soforluk</th>\n",
       "    </tr>\n",
       "  </thead>\n",
       "  <tbody>\n",
       "    <tr>\n",
       "      <th>erol</th>\n",
       "      <td>1.029943</td>\n",
       "      <td>1.873512</td>\n",
       "      <td>-0.167521</td>\n",
       "      <td>0</td>\n",
       "    </tr>\n",
       "    <tr>\n",
       "      <th>serhat</th>\n",
       "      <td>1.033485</td>\n",
       "      <td>-1.890516</td>\n",
       "      <td>-0.557934</td>\n",
       "      <td>0</td>\n",
       "    </tr>\n",
       "    <tr>\n",
       "      <th>talha</th>\n",
       "      <td>-0.317794</td>\n",
       "      <td>-0.941352</td>\n",
       "      <td>-0.746319</td>\n",
       "      <td>1</td>\n",
       "    </tr>\n",
       "  </tbody>\n",
       "</table>\n",
       "</div>"
      ],
      "text/plain": [
       "          manita      para  cekiciliks  soforluk\n",
       "erol    1.029943  1.873512   -0.167521         0\n",
       "serhat  1.033485 -1.890516   -0.557934         0\n",
       "talha  -0.317794 -0.941352   -0.746319         1"
      ]
     },
     "execution_count": 31,
     "metadata": {},
     "output_type": "execute_result"
    }
   ],
   "source": [
    "newDataFrame"
   ]
  },
  {
   "cell_type": "code",
   "execution_count": 33,
   "id": "404d30a3",
   "metadata": {},
   "outputs": [
    {
     "data": {
      "text/html": [
       "<div>\n",
       "<style scoped>\n",
       "    .dataframe tbody tr th:only-of-type {\n",
       "        vertical-align: middle;\n",
       "    }\n",
       "\n",
       "    .dataframe tbody tr th {\n",
       "        vertical-align: top;\n",
       "    }\n",
       "\n",
       "    .dataframe thead th {\n",
       "        text-align: right;\n",
       "    }\n",
       "</style>\n",
       "<table border=\"1\" class=\"dataframe\">\n",
       "  <thead>\n",
       "    <tr style=\"text-align: right;\">\n",
       "      <th></th>\n",
       "      <th>index</th>\n",
       "      <th>manita</th>\n",
       "      <th>para</th>\n",
       "      <th>cekiciliks</th>\n",
       "      <th>soforluk</th>\n",
       "    </tr>\n",
       "  </thead>\n",
       "  <tbody>\n",
       "    <tr>\n",
       "      <th>0</th>\n",
       "      <td>erol</td>\n",
       "      <td>1.029943</td>\n",
       "      <td>1.873512</td>\n",
       "      <td>-0.167521</td>\n",
       "      <td>0</td>\n",
       "    </tr>\n",
       "    <tr>\n",
       "      <th>1</th>\n",
       "      <td>serhat</td>\n",
       "      <td>1.033485</td>\n",
       "      <td>-1.890516</td>\n",
       "      <td>-0.557934</td>\n",
       "      <td>0</td>\n",
       "    </tr>\n",
       "    <tr>\n",
       "      <th>2</th>\n",
       "      <td>talha</td>\n",
       "      <td>-0.317794</td>\n",
       "      <td>-0.941352</td>\n",
       "      <td>-0.746319</td>\n",
       "      <td>1</td>\n",
       "    </tr>\n",
       "  </tbody>\n",
       "</table>\n",
       "</div>"
      ],
      "text/plain": [
       "    index    manita      para  cekiciliks  soforluk\n",
       "0    erol  1.029943  1.873512   -0.167521         0\n",
       "1  serhat  1.033485 -1.890516   -0.557934         0\n",
       "2   talha -0.317794 -0.941352   -0.746319         1"
      ]
     },
     "execution_count": 33,
     "metadata": {},
     "output_type": "execute_result"
    }
   ],
   "source": [
    " newDataFrame.reset_index()"
   ]
  },
  {
   "cell_type": "code",
   "execution_count": 34,
   "id": "3a53620d",
   "metadata": {},
   "outputs": [
    {
     "data": {
      "text/html": [
       "<div>\n",
       "<style scoped>\n",
       "    .dataframe tbody tr th:only-of-type {\n",
       "        vertical-align: middle;\n",
       "    }\n",
       "\n",
       "    .dataframe tbody tr th {\n",
       "        vertical-align: top;\n",
       "    }\n",
       "\n",
       "    .dataframe thead th {\n",
       "        text-align: right;\n",
       "    }\n",
       "</style>\n",
       "<table border=\"1\" class=\"dataframe\">\n",
       "  <thead>\n",
       "    <tr style=\"text-align: right;\">\n",
       "      <th></th>\n",
       "      <th>manita</th>\n",
       "      <th>para</th>\n",
       "      <th>cekiciliks</th>\n",
       "      <th>soforluk</th>\n",
       "    </tr>\n",
       "  </thead>\n",
       "  <tbody>\n",
       "    <tr>\n",
       "      <th>erol</th>\n",
       "      <td>1.029943</td>\n",
       "      <td>1.873512</td>\n",
       "      <td>-0.167521</td>\n",
       "      <td>0</td>\n",
       "    </tr>\n",
       "    <tr>\n",
       "      <th>serhat</th>\n",
       "      <td>1.033485</td>\n",
       "      <td>-1.890516</td>\n",
       "      <td>-0.557934</td>\n",
       "      <td>0</td>\n",
       "    </tr>\n",
       "    <tr>\n",
       "      <th>talha</th>\n",
       "      <td>-0.317794</td>\n",
       "      <td>-0.941352</td>\n",
       "      <td>-0.746319</td>\n",
       "      <td>1</td>\n",
       "    </tr>\n",
       "  </tbody>\n",
       "</table>\n",
       "</div>"
      ],
      "text/plain": [
       "          manita      para  cekiciliks  soforluk\n",
       "erol    1.029943  1.873512   -0.167521         0\n",
       "serhat  1.033485 -1.890516   -0.557934         0\n",
       "talha  -0.317794 -0.941352   -0.746319         1"
      ]
     },
     "execution_count": 34,
     "metadata": {},
     "output_type": "execute_result"
    }
   ],
   "source": [
    "newDataFrame"
   ]
  },
  {
   "cell_type": "code",
   "execution_count": 35,
   "id": "617a6269",
   "metadata": {},
   "outputs": [],
   "source": [
    "newIndexList = [\"er\",\"srh\",\"tlh\"]"
   ]
  },
  {
   "cell_type": "code",
   "execution_count": 36,
   "id": "7c75625f",
   "metadata": {},
   "outputs": [],
   "source": [
    "newDataFrame[\"new Index\"] = newIndexList"
   ]
  },
  {
   "cell_type": "code",
   "execution_count": 37,
   "id": "4c0ded7c",
   "metadata": {},
   "outputs": [
    {
     "data": {
      "text/html": [
       "<div>\n",
       "<style scoped>\n",
       "    .dataframe tbody tr th:only-of-type {\n",
       "        vertical-align: middle;\n",
       "    }\n",
       "\n",
       "    .dataframe tbody tr th {\n",
       "        vertical-align: top;\n",
       "    }\n",
       "\n",
       "    .dataframe thead th {\n",
       "        text-align: right;\n",
       "    }\n",
       "</style>\n",
       "<table border=\"1\" class=\"dataframe\">\n",
       "  <thead>\n",
       "    <tr style=\"text-align: right;\">\n",
       "      <th></th>\n",
       "      <th>manita</th>\n",
       "      <th>para</th>\n",
       "      <th>cekiciliks</th>\n",
       "      <th>soforluk</th>\n",
       "      <th>new Index</th>\n",
       "    </tr>\n",
       "  </thead>\n",
       "  <tbody>\n",
       "    <tr>\n",
       "      <th>erol</th>\n",
       "      <td>1.029943</td>\n",
       "      <td>1.873512</td>\n",
       "      <td>-0.167521</td>\n",
       "      <td>0</td>\n",
       "      <td>er</td>\n",
       "    </tr>\n",
       "    <tr>\n",
       "      <th>serhat</th>\n",
       "      <td>1.033485</td>\n",
       "      <td>-1.890516</td>\n",
       "      <td>-0.557934</td>\n",
       "      <td>0</td>\n",
       "      <td>srh</td>\n",
       "    </tr>\n",
       "    <tr>\n",
       "      <th>talha</th>\n",
       "      <td>-0.317794</td>\n",
       "      <td>-0.941352</td>\n",
       "      <td>-0.746319</td>\n",
       "      <td>1</td>\n",
       "      <td>tlh</td>\n",
       "    </tr>\n",
       "  </tbody>\n",
       "</table>\n",
       "</div>"
      ],
      "text/plain": [
       "          manita      para  cekiciliks  soforluk new Index\n",
       "erol    1.029943  1.873512   -0.167521         0        er\n",
       "serhat  1.033485 -1.890516   -0.557934         0       srh\n",
       "talha  -0.317794 -0.941352   -0.746319         1       tlh"
      ]
     },
     "execution_count": 37,
     "metadata": {},
     "output_type": "execute_result"
    }
   ],
   "source": [
    "newDataFrame"
   ]
  },
  {
   "cell_type": "code",
   "execution_count": 38,
   "id": "2f04737c",
   "metadata": {},
   "outputs": [
    {
     "data": {
      "text/html": [
       "<div>\n",
       "<style scoped>\n",
       "    .dataframe tbody tr th:only-of-type {\n",
       "        vertical-align: middle;\n",
       "    }\n",
       "\n",
       "    .dataframe tbody tr th {\n",
       "        vertical-align: top;\n",
       "    }\n",
       "\n",
       "    .dataframe thead th {\n",
       "        text-align: right;\n",
       "    }\n",
       "</style>\n",
       "<table border=\"1\" class=\"dataframe\">\n",
       "  <thead>\n",
       "    <tr style=\"text-align: right;\">\n",
       "      <th></th>\n",
       "      <th>manita</th>\n",
       "      <th>para</th>\n",
       "      <th>cekiciliks</th>\n",
       "      <th>soforluk</th>\n",
       "    </tr>\n",
       "    <tr>\n",
       "      <th>new Index</th>\n",
       "      <th></th>\n",
       "      <th></th>\n",
       "      <th></th>\n",
       "      <th></th>\n",
       "    </tr>\n",
       "  </thead>\n",
       "  <tbody>\n",
       "    <tr>\n",
       "      <th>er</th>\n",
       "      <td>1.029943</td>\n",
       "      <td>1.873512</td>\n",
       "      <td>-0.167521</td>\n",
       "      <td>0</td>\n",
       "    </tr>\n",
       "    <tr>\n",
       "      <th>srh</th>\n",
       "      <td>1.033485</td>\n",
       "      <td>-1.890516</td>\n",
       "      <td>-0.557934</td>\n",
       "      <td>0</td>\n",
       "    </tr>\n",
       "    <tr>\n",
       "      <th>tlh</th>\n",
       "      <td>-0.317794</td>\n",
       "      <td>-0.941352</td>\n",
       "      <td>-0.746319</td>\n",
       "      <td>1</td>\n",
       "    </tr>\n",
       "  </tbody>\n",
       "</table>\n",
       "</div>"
      ],
      "text/plain": [
       "             manita      para  cekiciliks  soforluk\n",
       "new Index                                          \n",
       "er         1.029943  1.873512   -0.167521         0\n",
       "srh        1.033485 -1.890516   -0.557934         0\n",
       "tlh       -0.317794 -0.941352   -0.746319         1"
      ]
     },
     "execution_count": 38,
     "metadata": {},
     "output_type": "execute_result"
    }
   ],
   "source": [
    "newDataFrame.set_index(\"new Index\")"
   ]
  },
  {
   "cell_type": "code",
   "execution_count": 39,
   "id": "83f94f13",
   "metadata": {},
   "outputs": [
    {
     "data": {
      "text/html": [
       "<div>\n",
       "<style scoped>\n",
       "    .dataframe tbody tr th:only-of-type {\n",
       "        vertical-align: middle;\n",
       "    }\n",
       "\n",
       "    .dataframe tbody tr th {\n",
       "        vertical-align: top;\n",
       "    }\n",
       "\n",
       "    .dataframe thead th {\n",
       "        text-align: right;\n",
       "    }\n",
       "</style>\n",
       "<table border=\"1\" class=\"dataframe\">\n",
       "  <thead>\n",
       "    <tr style=\"text-align: right;\">\n",
       "      <th></th>\n",
       "      <th>manita</th>\n",
       "      <th>para</th>\n",
       "      <th>cekiciliks</th>\n",
       "      <th>soforluk</th>\n",
       "      <th>new Index</th>\n",
       "    </tr>\n",
       "  </thead>\n",
       "  <tbody>\n",
       "    <tr>\n",
       "      <th>erol</th>\n",
       "      <td>1.029943</td>\n",
       "      <td>1.873512</td>\n",
       "      <td>-0.167521</td>\n",
       "      <td>0</td>\n",
       "      <td>er</td>\n",
       "    </tr>\n",
       "    <tr>\n",
       "      <th>serhat</th>\n",
       "      <td>1.033485</td>\n",
       "      <td>-1.890516</td>\n",
       "      <td>-0.557934</td>\n",
       "      <td>0</td>\n",
       "      <td>srh</td>\n",
       "    </tr>\n",
       "    <tr>\n",
       "      <th>talha</th>\n",
       "      <td>-0.317794</td>\n",
       "      <td>-0.941352</td>\n",
       "      <td>-0.746319</td>\n",
       "      <td>1</td>\n",
       "      <td>tlh</td>\n",
       "    </tr>\n",
       "  </tbody>\n",
       "</table>\n",
       "</div>"
      ],
      "text/plain": [
       "          manita      para  cekiciliks  soforluk new Index\n",
       "erol    1.029943  1.873512   -0.167521         0        er\n",
       "serhat  1.033485 -1.890516   -0.557934         0       srh\n",
       "talha  -0.317794 -0.941352   -0.746319         1       tlh"
      ]
     },
     "execution_count": 39,
     "metadata": {},
     "output_type": "execute_result"
    }
   ],
   "source": [
    "newDataFrame"
   ]
  },
  {
   "cell_type": "code",
   "execution_count": 40,
   "id": "04606895",
   "metadata": {},
   "outputs": [],
   "source": [
    "newDataFrame.set_index(\"new Index\" , inplace=True)"
   ]
  },
  {
   "cell_type": "code",
   "execution_count": 41,
   "id": "7b3e7654",
   "metadata": {},
   "outputs": [
    {
     "data": {
      "text/html": [
       "<div>\n",
       "<style scoped>\n",
       "    .dataframe tbody tr th:only-of-type {\n",
       "        vertical-align: middle;\n",
       "    }\n",
       "\n",
       "    .dataframe tbody tr th {\n",
       "        vertical-align: top;\n",
       "    }\n",
       "\n",
       "    .dataframe thead th {\n",
       "        text-align: right;\n",
       "    }\n",
       "</style>\n",
       "<table border=\"1\" class=\"dataframe\">\n",
       "  <thead>\n",
       "    <tr style=\"text-align: right;\">\n",
       "      <th></th>\n",
       "      <th>manita</th>\n",
       "      <th>para</th>\n",
       "      <th>cekiciliks</th>\n",
       "      <th>soforluk</th>\n",
       "    </tr>\n",
       "    <tr>\n",
       "      <th>new Index</th>\n",
       "      <th></th>\n",
       "      <th></th>\n",
       "      <th></th>\n",
       "      <th></th>\n",
       "    </tr>\n",
       "  </thead>\n",
       "  <tbody>\n",
       "    <tr>\n",
       "      <th>er</th>\n",
       "      <td>1.029943</td>\n",
       "      <td>1.873512</td>\n",
       "      <td>-0.167521</td>\n",
       "      <td>0</td>\n",
       "    </tr>\n",
       "    <tr>\n",
       "      <th>srh</th>\n",
       "      <td>1.033485</td>\n",
       "      <td>-1.890516</td>\n",
       "      <td>-0.557934</td>\n",
       "      <td>0</td>\n",
       "    </tr>\n",
       "    <tr>\n",
       "      <th>tlh</th>\n",
       "      <td>-0.317794</td>\n",
       "      <td>-0.941352</td>\n",
       "      <td>-0.746319</td>\n",
       "      <td>1</td>\n",
       "    </tr>\n",
       "  </tbody>\n",
       "</table>\n",
       "</div>"
      ],
      "text/plain": [
       "             manita      para  cekiciliks  soforluk\n",
       "new Index                                          \n",
       "er         1.029943  1.873512   -0.167521         0\n",
       "srh        1.033485 -1.890516   -0.557934         0\n",
       "tlh       -0.317794 -0.941352   -0.746319         1"
      ]
     },
     "execution_count": 41,
     "metadata": {},
     "output_type": "execute_result"
    }
   ],
   "source": [
    "newDataFrame"
   ]
  },
  {
   "cell_type": "code",
   "execution_count": 42,
   "id": "4b4d76ad",
   "metadata": {},
   "outputs": [],
   "source": [
    "firstIndex = [\"first\",\"first\",\"first\",\"second\",\"second\",\"second\"]"
   ]
  },
  {
   "cell_type": "code",
   "execution_count": 43,
   "id": "ad410f2b",
   "metadata": {},
   "outputs": [],
   "source": [
    "secondIndex =[\"erol\",\"bilal\",\"serhat\",\"talha\",\"mc\",\"frk\"]"
   ]
  },
  {
   "cell_type": "code",
   "execution_count": 44,
   "id": "ad9d95c6",
   "metadata": {},
   "outputs": [],
   "source": [
    "combinedIndexes = list(zip(firstIndex,secondIndex))"
   ]
  },
  {
   "cell_type": "code",
   "execution_count": 45,
   "id": "4366bdc6",
   "metadata": {},
   "outputs": [
    {
     "data": {
      "text/plain": [
       "[('first', 'erol'),\n",
       " ('first', 'bilal'),\n",
       " ('first', 'serhat'),\n",
       " ('second', 'talha'),\n",
       " ('second', 'mc'),\n",
       " ('second', 'frk')]"
      ]
     },
     "execution_count": 45,
     "metadata": {},
     "output_type": "execute_result"
    }
   ],
   "source": [
    "combinedIndexes"
   ]
  },
  {
   "cell_type": "code",
   "execution_count": 46,
   "id": "7cb850c9",
   "metadata": {},
   "outputs": [],
   "source": [
    "combinedIndexes = pd.MultiIndex.from_tuples(combinedIndexes)"
   ]
  },
  {
   "cell_type": "code",
   "execution_count": 47,
   "id": "d81e1bbd",
   "metadata": {},
   "outputs": [
    {
     "data": {
      "text/plain": [
       "MultiIndex([( 'first',   'erol'),\n",
       "            ( 'first',  'bilal'),\n",
       "            ( 'first', 'serhat'),\n",
       "            ('second',  'talha'),\n",
       "            ('second',     'mc'),\n",
       "            ('second',    'frk')],\n",
       "           )"
      ]
     },
     "execution_count": 47,
     "metadata": {},
     "output_type": "execute_result"
    }
   ],
   "source": [
    "combinedIndexes"
   ]
  },
  {
   "cell_type": "code",
   "execution_count": 54,
   "id": "406d2cc3",
   "metadata": {},
   "outputs": [],
   "source": [
    "myMList = [[40,\"A\"],[50,\"B\"],[60,\"C\"],[70,\"D\"],[80,\"E\"],[70,\"F\"]]"
   ]
  },
  {
   "cell_type": "code",
   "execution_count": 55,
   "id": "87bc5481",
   "metadata": {},
   "outputs": [],
   "source": [
    "myNumpMList = np.array(myMList)"
   ]
  },
  {
   "cell_type": "code",
   "execution_count": 56,
   "id": "ed3f0de0",
   "metadata": {},
   "outputs": [],
   "source": [
    "myMDataFrame = pd.DataFrame(myNumpMList,index=combinedIndexes,columns=[\"dataOne\",\"dataTwo\"])"
   ]
  },
  {
   "cell_type": "code",
   "execution_count": 57,
   "id": "0b2a1e07",
   "metadata": {},
   "outputs": [
    {
     "data": {
      "text/html": [
       "<div>\n",
       "<style scoped>\n",
       "    .dataframe tbody tr th:only-of-type {\n",
       "        vertical-align: middle;\n",
       "    }\n",
       "\n",
       "    .dataframe tbody tr th {\n",
       "        vertical-align: top;\n",
       "    }\n",
       "\n",
       "    .dataframe thead th {\n",
       "        text-align: right;\n",
       "    }\n",
       "</style>\n",
       "<table border=\"1\" class=\"dataframe\">\n",
       "  <thead>\n",
       "    <tr style=\"text-align: right;\">\n",
       "      <th></th>\n",
       "      <th></th>\n",
       "      <th>dataOne</th>\n",
       "      <th>dataTwo</th>\n",
       "    </tr>\n",
       "  </thead>\n",
       "  <tbody>\n",
       "    <tr>\n",
       "      <th rowspan=\"3\" valign=\"top\">first</th>\n",
       "      <th>erol</th>\n",
       "      <td>40</td>\n",
       "      <td>A</td>\n",
       "    </tr>\n",
       "    <tr>\n",
       "      <th>bilal</th>\n",
       "      <td>50</td>\n",
       "      <td>B</td>\n",
       "    </tr>\n",
       "    <tr>\n",
       "      <th>serhat</th>\n",
       "      <td>60</td>\n",
       "      <td>C</td>\n",
       "    </tr>\n",
       "    <tr>\n",
       "      <th rowspan=\"3\" valign=\"top\">second</th>\n",
       "      <th>talha</th>\n",
       "      <td>70</td>\n",
       "      <td>D</td>\n",
       "    </tr>\n",
       "    <tr>\n",
       "      <th>mc</th>\n",
       "      <td>80</td>\n",
       "      <td>E</td>\n",
       "    </tr>\n",
       "    <tr>\n",
       "      <th>frk</th>\n",
       "      <td>70</td>\n",
       "      <td>F</td>\n",
       "    </tr>\n",
       "  </tbody>\n",
       "</table>\n",
       "</div>"
      ],
      "text/plain": [
       "              dataOne dataTwo\n",
       "first  erol        40       A\n",
       "       bilal       50       B\n",
       "       serhat      60       C\n",
       "second talha       70       D\n",
       "       mc          80       E\n",
       "       frk         70       F"
      ]
     },
     "execution_count": 57,
     "metadata": {},
     "output_type": "execute_result"
    }
   ],
   "source": [
    "myMDataFrame"
   ]
  },
  {
   "cell_type": "code",
   "execution_count": null,
   "id": "9cc7112b",
   "metadata": {},
   "outputs": [],
   "source": []
  }
 ],
 "metadata": {
  "kernelspec": {
   "display_name": "Python 3 (ipykernel)",
   "language": "python",
   "name": "python3"
  },
  "language_info": {
   "codemirror_mode": {
    "name": "ipython",
    "version": 3
   },
   "file_extension": ".py",
   "mimetype": "text/x-python",
   "name": "python",
   "nbconvert_exporter": "python",
   "pygments_lexer": "ipython3",
   "version": "3.9.13"
  }
 },
 "nbformat": 4,
 "nbformat_minor": 5
}
