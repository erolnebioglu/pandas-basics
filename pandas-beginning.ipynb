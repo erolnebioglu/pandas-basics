{
 "cells": [
  {
   "cell_type": "code",
   "execution_count": 1,
   "id": "704758a5",
   "metadata": {},
   "outputs": [],
   "source": [
    "import numpy as np"
   ]
  },
  {
   "cell_type": "code",
   "execution_count": 2,
   "id": "4847a3ca",
   "metadata": {},
   "outputs": [],
   "source": [
    "import pandas as pd"
   ]
  },
  {
   "cell_type": "markdown",
   "id": "fd3f0feb",
   "metadata": {},
   "source": [
    "## series"
   ]
  },
  {
   "cell_type": "code",
   "execution_count": 3,
   "id": "b79941a1",
   "metadata": {},
   "outputs": [],
   "source": [
    "myDict = {\"erol\":50,\"serhat\":70,\"talha\":10}"
   ]
  },
  {
   "cell_type": "code",
   "execution_count": 4,
   "id": "a1b445eb",
   "metadata": {},
   "outputs": [
    {
     "data": {
      "text/plain": [
       "erol      50\n",
       "serhat    70\n",
       "talha     10\n",
       "dtype: int64"
      ]
     },
     "execution_count": 4,
     "metadata": {},
     "output_type": "execute_result"
    }
   ],
   "source": [
    "pd.Series(myDict)"
   ]
  },
  {
   "cell_type": "code",
   "execution_count": 5,
   "id": "232d466c",
   "metadata": {},
   "outputs": [],
   "source": [
    "myNumbers = [50,70,10]\n",
    "myNames = [\"erol\",\"serhat\",\"talha\"]"
   ]
  },
  {
   "cell_type": "code",
   "execution_count": 6,
   "id": "7f618587",
   "metadata": {},
   "outputs": [
    {
     "data": {
      "text/plain": [
       "0    50\n",
       "1    70\n",
       "2    10\n",
       "dtype: int64"
      ]
     },
     "execution_count": 6,
     "metadata": {},
     "output_type": "execute_result"
    }
   ],
   "source": [
    "pd.Series(myNumbers)"
   ]
  },
  {
   "cell_type": "code",
   "execution_count": 7,
   "id": "b3dbbe77",
   "metadata": {},
   "outputs": [
    {
     "data": {
      "text/plain": [
       "50      erol\n",
       "70    serhat\n",
       "10     talha\n",
       "dtype: object"
      ]
     },
     "execution_count": 7,
     "metadata": {},
     "output_type": "execute_result"
    }
   ],
   "source": [
    "pd.Series(myNames,myNumbers)"
   ]
  },
  {
   "cell_type": "code",
   "execution_count": 8,
   "id": "54844005",
   "metadata": {},
   "outputs": [
    {
     "data": {
      "text/plain": [
       "erol      50\n",
       "serhat    70\n",
       "talha     10\n",
       "dtype: int64"
      ]
     },
     "execution_count": 8,
     "metadata": {},
     "output_type": "execute_result"
    }
   ],
   "source": [
    "pd.Series(data=myNumbers,index=myNames)"
   ]
  },
  {
   "cell_type": "code",
   "execution_count": 9,
   "id": "a61ca98e",
   "metadata": {},
   "outputs": [],
   "source": [
    "numpyArray = np.array([70,50,10])"
   ]
  },
  {
   "cell_type": "code",
   "execution_count": 10,
   "id": "15384888",
   "metadata": {},
   "outputs": [
    {
     "data": {
      "text/plain": [
       "0    70\n",
       "1    50\n",
       "2    10\n",
       "dtype: int32"
      ]
     },
     "execution_count": 10,
     "metadata": {},
     "output_type": "execute_result"
    }
   ],
   "source": [
    "pd.Series(numpyArray)"
   ]
  },
  {
   "cell_type": "code",
   "execution_count": 14,
   "id": "eebebb7b",
   "metadata": {},
   "outputs": [
    {
     "data": {
      "text/plain": [
       "7             erolssss\n",
       "8           serhatssss\n",
       "9    adıLazımDegilssss\n",
       "dtype: object"
      ]
     },
     "execution_count": 14,
     "metadata": {},
     "output_type": "execute_result"
    }
   ],
   "source": [
    "pd.Series([\"erolssss\",\"serhatssss\",\"adıLazımDegilssss\"],[7,8,9])"
   ]
  },
  {
   "cell_type": "code",
   "execution_count": 15,
   "id": "ba953310",
   "metadata": {},
   "outputs": [],
   "source": [
    "firstRun = pd.Series([70,50,10],[\"erol\",\"serhat\",\"talha\"])"
   ]
  },
  {
   "cell_type": "code",
   "execution_count": 16,
   "id": "5d8d260c",
   "metadata": {},
   "outputs": [
    {
     "data": {
      "text/plain": [
       "erol      70\n",
       "serhat    50\n",
       "talha     10\n",
       "dtype: int64"
      ]
     },
     "execution_count": 16,
     "metadata": {},
     "output_type": "execute_result"
    }
   ],
   "source": [
    "firstRun"
   ]
  },
  {
   "cell_type": "code",
   "execution_count": 17,
   "id": "f676e9d5",
   "metadata": {},
   "outputs": [],
   "source": [
    "secondRun = pd.Series([100,80,10],[\"erol\",\"serhat\",\"talha\"])"
   ]
  },
  {
   "cell_type": "code",
   "execution_count": 18,
   "id": "ea436ae6",
   "metadata": {},
   "outputs": [
    {
     "data": {
      "text/plain": [
       "erol      100\n",
       "serhat     80\n",
       "talha      10\n",
       "dtype: int64"
      ]
     },
     "execution_count": 18,
     "metadata": {},
     "output_type": "execute_result"
    }
   ],
   "source": [
    "secondRun"
   ]
  },
  {
   "cell_type": "code",
   "execution_count": 19,
   "id": "2481af75",
   "metadata": {},
   "outputs": [
    {
     "data": {
      "text/plain": [
       "100"
      ]
     },
     "execution_count": 19,
     "metadata": {},
     "output_type": "execute_result"
    }
   ],
   "source": [
    "secondRun[\"erol\"]"
   ]
  },
  {
   "cell_type": "code",
   "execution_count": 20,
   "id": "e5133d26",
   "metadata": {},
   "outputs": [
    {
     "data": {
      "text/plain": [
       "erol      170\n",
       "serhat    130\n",
       "talha      20\n",
       "dtype: int64"
      ]
     },
     "execution_count": 20,
     "metadata": {},
     "output_type": "execute_result"
    }
   ],
   "source": [
    "secondRun+firstRun"
   ]
  },
  {
   "cell_type": "code",
   "execution_count": null,
   "id": "d3158931",
   "metadata": {},
   "outputs": [],
   "source": []
  }
 ],
 "metadata": {
  "kernelspec": {
   "display_name": "Python 3 (ipykernel)",
   "language": "python",
   "name": "python3"
  },
  "language_info": {
   "codemirror_mode": {
    "name": "ipython",
    "version": 3
   },
   "file_extension": ".py",
   "mimetype": "text/x-python",
   "name": "python",
   "nbconvert_exporter": "python",
   "pygments_lexer": "ipython3",
   "version": "3.9.13"
  }
 },
 "nbformat": 4,
 "nbformat_minor": 5
}
